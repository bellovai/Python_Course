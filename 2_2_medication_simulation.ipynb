{
 "cells": [
  {
   "cell_type": "markdown",
   "id": "96221394",
   "metadata": {},
   "source": [
    "# Medication Simulation"
   ]
  },
  {
   "cell_type": "code",
   "execution_count": 1,
   "id": "76c3aa17",
   "metadata": {},
   "outputs": [],
   "source": [
    "# Import packages\n",
    "import matplotlib.pyplot as plt"
   ]
  },
  {
   "cell_type": "code",
   "execution_count": 2,
   "id": "6e90e195",
   "metadata": {},
   "outputs": [
    {
     "name": "stdout",
     "output_type": "stream",
     "text": [
      "Dosis? 4\n",
      "Abbaurate? 0.3\n",
      "Frequenz? 2\n"
     ]
    }
   ],
   "source": [
    "# Initialize variables\n",
    "dosis = float(input(\"Dosis? \"))\n",
    "abbaurate = float(input(\"Abbaurate? \"))\n",
    "frequenz = float(input(\"Frequenz? \"))\n",
    "a = 1\n",
    "zähler = [0 for x in range(50)]\n",
    "zeit = [0 for x in range(50)]\n",
    "konzentration = [0 for x in range(50)]"
   ]
  },
  {
   "cell_type": "code",
   "execution_count": 3,
   "id": "bc483014",
   "metadata": {},
   "outputs": [
    {
     "name": "stdout",
     "output_type": "stream",
     "text": [
      "Zähler | Zeit | Konzentration\n",
      "0 | 0 | 4.0\n",
      "1 | 1 | 2.8\n",
      "2 | 2 | 1.96\n",
      "0 | 2.001 | 6.96\n",
      "1 | 3.001 | 4.872\n",
      "2 | 4.001 | 3.41\n",
      "0 | 4.002 | 8.41\n",
      "1 | 5.002 | 5.887\n",
      "2 | 6.002 | 4.121\n",
      "0 | 6.003 | 9.121\n",
      "1 | 7.003 | 6.385\n",
      "2 | 8.003 | 4.469\n",
      "0 | 8.004 | 9.469\n",
      "1 | 9.004 | 6.629\n",
      "2 | 10.004 | 4.64\n",
      "0 | 10.005 | 9.64\n",
      "1 | 11.005 | 6.748\n",
      "2 | 12.005 | 4.724\n",
      "0 | 12.006 | 9.724\n",
      "1 | 13.006 | 6.807\n",
      "2 | 14.006 | 4.765\n",
      "0 | 14.007 | 9.765\n",
      "1 | 15.007 | 6.835\n",
      "2 | 16.007 | 4.785\n",
      "0 | 16.008 | 9.785\n",
      "1 | 17.008 | 6.849\n",
      "2 | 18.008 | 4.794\n",
      "0 | 18.009 | 9.794\n",
      "1 | 19.009 | 6.856\n",
      "2 | 20.009 | 4.799\n",
      "0 | 20.01 | 9.799\n",
      "1 | 21.01 | 6.86\n",
      "2 | 22.01 | 4.802\n",
      "0 | 22.011 | 9.802\n",
      "1 | 23.011 | 6.861\n",
      "2 | 24.011 | 4.803\n",
      "0 | 24.012 | 9.803\n",
      "1 | 25.012 | 6.862\n",
      "2 | 26.012 | 4.803\n",
      "0 | 26.013 | 9.803\n",
      "1 | 27.013 | 6.862\n",
      "2 | 28.013 | 4.804\n",
      "0 | 28.014 | 9.804\n",
      "1 | 29.014 | 6.863\n",
      "2 | 30.014 | 4.804\n",
      "0 | 30.015 | 9.804\n",
      "1 | 31.015 | 6.863\n",
      "2 | 32.015 | 4.804\n",
      "0 | 32.016 | 9.804\n",
      "1 | 33.016 | 6.863\n"
     ]
    }
   ],
   "source": [
    "# Define algorithm\n",
    "\n",
    "print(\"Zähler | Zeit | Konzentration\")\n",
    "\n",
    "for i in range(1, len(zähler)):\n",
    "  if zähler[i-1] == frequenz:\n",
    "    zähler[i] = 0\n",
    "  else:\n",
    "    zähler[i] = zähler[i-1] + 1\n",
    "\n",
    "for i in range(1, len(zähler)):\n",
    "  if zähler[i-1] == frequenz:\n",
    "    zeit[i] = zeit[i-1] + 0.001\n",
    "  else:\n",
    "    zeit[i] = zeit[i-1] + 1\n",
    "\n",
    "konzentration[0] = dosis\n",
    "\n",
    "for i in range(1, len(zähler)):\n",
    "  if zähler[i-1] == frequenz:\n",
    "    konzentration[i] = konzentration[i-1] + 5\n",
    "  else:\n",
    "    konzentration[i] = konzentration[i-1] * (1-abbaurate)\n",
    "    \n",
    "for i in range(0, len(zähler)):\n",
    "  print(zähler[i], \"|\", round(zeit[i], 3), \"|\", round(konzentration[i], 3))"
   ]
  },
  {
   "cell_type": "code",
   "execution_count": 4,
   "id": "aeac5331",
   "metadata": {},
   "outputs": [
    {
     "data": {
      "text/plain": [
       "Text(0, 0.5, 'Konzentration')"
      ]
     },
     "execution_count": 4,
     "metadata": {},
     "output_type": "execute_result"
    },
    {
     "data": {
      "image/png": "[encoded data removed]",
      "text/plain": [
       "<Figure size 432x288 with 1 Axes>"
      ]
     },
     "metadata": {
      "needs_background": "light"
     },
     "output_type": "display_data"
    }
   ],
   "source": [
    "# Output results\n",
    "plt.plot(konzentration)\n",
    "plt.title(\"Medikamenten-Konzentration über die Zeit\")\n",
    "plt.xlabel(\"Zeit\")\n",
    "plt.ylabel(\"Konzentration\")"
   ]
  }
 ],
 "metadata": {
  "kernelspec": {
   "display_name": "Python 3 (ipykernel)",
   "language": "python",
   "name": "python3"
  },
  "language_info": {
   "codemirror_mode": {
    "name": "ipython",
    "version": 3
   },
   "file_extension": ".py",
   "mimetype": "text/x-python",
   "name": "python",
   "nbconvert_exporter": "python",
   "pygments_lexer": "ipython3",
   "version": "3.9.7"
  }
 },
 "nbformat": 4,
 "nbformat_minor": 5
}
