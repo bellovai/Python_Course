{
 "cells": [
  {
   "cell_type": "markdown",
   "id": "96221394",
   "metadata": {},
   "source": [
    "# Card Game"
   ]
  },
  {
   "cell_type": "code",
   "execution_count": 1,
   "id": "0c2c7740",
   "metadata": {},
   "outputs": [],
   "source": [
    "# Initialize variables\n",
    "farbe = [\"heart\", \"diamond\", \"clubs\", \"spade\"]\n",
    "symbol = [\"2\", \"3\", \"4\", \"5\", \"6\", \"7\", \"8\", \"9\", \"10\", \"J\", \"Q\", \"K\", \"A\"]\n",
    "wert = [2, 3, 4, 5, 6, 7, 8, 9, 10, 10, 10, 10, 20]\n",
    "summe = 0"
   ]
  },
  {
   "cell_type": "code",
   "execution_count": 2,
   "id": "bfae8c53",
   "metadata": {},
   "outputs": [
    {
     "name": "stdout",
     "output_type": "stream",
     "text": [
      "How many cards? 5\n"
     ]
    }
   ],
   "source": [
    "# Input variable\n",
    "anzahl = int(input(\"How many cards? \"))"
   ]
  },
  {
   "cell_type": "code",
   "execution_count": 3,
   "id": "7c3074e1",
   "metadata": {},
   "outputs": [
    {
     "name": "stdout",
     "output_type": "stream",
     "text": [
      "heart=1 | diamond=2 | clubs=3 | spade=4\n",
      "2=2 | 3=3 | 4=4 | 5=5 | 6=6 | 7=7 | 8=8 | 9=9 | 10=10 | J=11 | Q=12 | K=13 | A=14\n",
      "Which colour? 1\n",
      "Which symbol? 12\n",
      "heart Q\n",
      "heart=1 | diamond=2 | clubs=3 | spade=4\n",
      "2=2 | 3=3 | 4=4 | 5=5 | 6=6 | 7=7 | 8=8 | 9=9 | 10=10 | J=11 | Q=12 | K=13 | A=14\n",
      "Which colour? 3\n",
      "Which symbol? 3\n",
      "clubs 3\n",
      "heart=1 | diamond=2 | clubs=3 | spade=4\n",
      "2=2 | 3=3 | 4=4 | 5=5 | 6=6 | 7=7 | 8=8 | 9=9 | 10=10 | J=11 | Q=12 | K=13 | A=14\n",
      "Which colour? 4\n",
      "Which symbol? 14\n",
      "spade A\n",
      "heart=1 | diamond=2 | clubs=3 | spade=4\n",
      "2=2 | 3=3 | 4=4 | 5=5 | 6=6 | 7=7 | 8=8 | 9=9 | 10=10 | J=11 | Q=12 | K=13 | A=14\n",
      "Which colour? 1\n",
      "Which symbol? 10\n",
      "heart 10\n",
      "heart=1 | diamond=2 | clubs=3 | spade=4\n",
      "2=2 | 3=3 | 4=4 | 5=5 | 6=6 | 7=7 | 8=8 | 9=9 | 10=10 | J=11 | Q=12 | K=13 | A=14\n",
      "Which colour? 2\n",
      "Which symbol? 9\n",
      "diamond 9\n"
     ]
    }
   ],
   "source": [
    "# Define algorithm\n",
    "for i in range(0, anzahl):\n",
    "  print(\"heart=1 | diamond=2 | clubs=3 | spade=4\")\n",
    "  print(\"2=2 | 3=3 | 4=4 | 5=5 | 6=6 | 7=7 | 8=8 | 9=9 | 10=10 | J=11 | Q=12 | K=13 | A=14\")\n",
    "  col = int(input(\"Which colour? \"))\n",
    "  sym = int(input(\"Which symbol? \"))\n",
    "  print(farbe[col-1], symbol[sym-2])\n",
    "  summe = summe + wert[sym-2]\n",
    "  i = i + 1"
   ]
  },
  {
   "cell_type": "code",
   "execution_count": 4,
   "id": "e19e304d",
   "metadata": {},
   "outputs": [
    {
     "name": "stdout",
     "output_type": "stream",
     "text": [
      "52\n"
     ]
    }
   ],
   "source": [
    "# Output results\n",
    "print(summe)"
   ]
  }
 ],
 "metadata": {
  "kernelspec": {
   "display_name": "Python 3 (ipykernel)",
   "language": "python",
   "name": "python3"
  },
  "language_info": {
   "codemirror_mode": {
    "name": "ipython",
    "version": 3
   },
   "file_extension": ".py",
   "mimetype": "text/x-python",
   "name": "python",
   "nbconvert_exporter": "python",
   "pygments_lexer": "ipython3",
   "version": "3.9.7"
  }
 },
 "nbformat": 4,
 "nbformat_minor": 5
}
