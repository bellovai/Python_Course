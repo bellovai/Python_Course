{
 "cells": [
  {
   "cell_type": "markdown",
   "id": "96221394",
   "metadata": {},
   "source": [
    "# Guess Numbers"
   ]
  },
  {
   "cell_type": "code",
   "execution_count": 1,
   "id": "308e2899",
   "metadata": {},
   "outputs": [],
   "source": [
    "# Initialize variables\n",
    "x = 58\n",
    "i = 1\n",
    "z = False"
   ]
  },
  {
   "cell_type": "code",
   "execution_count": 2,
   "id": "45e4fef6",
   "metadata": {},
   "outputs": [
    {
     "name": "stdout",
     "output_type": "stream",
     "text": [
      "Geben Sie eine Ganzzahl zwischen 1 und 100 ein! 50\n",
      "zu klein\n",
      "Geben Sie eine Ganzzahl zwischen 1 und 100 ein! 75\n",
      "zu gross\n",
      "Geben Sie eine Ganzzahl zwischen 1 und 100 ein! 60\n",
      "zu gross\n",
      "Geben Sie eine Ganzzahl zwischen 1 und 100 ein! 55\n",
      "zu klein\n",
      "Geben Sie eine Ganzzahl zwischen 1 und 100 ein! 58\n",
      "5 Mal geraten\n"
     ]
    }
   ],
   "source": [
    "# Define algorithm\n",
    "a = int(input(\"Geben Sie eine Ganzzahl zwischen 1 und 100 ein! \"))\n",
    "\n",
    "while z == False:\n",
    "  if a == x:\n",
    "    print(i, \"Mal geraten\")\n",
    "    z = True\n",
    "  elif a > 100 or a <0:\n",
    "    print(a, \"ist nicht im Suchbereich\")\n",
    "    i = i+1\n",
    "    a = int(input(\"Geben Sie eine Ganzzahl zwischen 1 und 100 ein! \"))\n",
    "  elif a > x:\n",
    "    print(\"zu gross\")\n",
    "    i = i+1\n",
    "    a = int(input(\"Geben Sie eine Ganzzahl zwischen 1 und 100 ein! \"))\n",
    "  elif a < x:\n",
    "    print(\"zu klein\")\n",
    "    i = i+1\n",
    "    a = int(input(\"Geben Sie eine Ganzzahl zwischen 1 und 100 ein! \"))"
   ]
  }
 ],
 "metadata": {
  "kernelspec": {
   "display_name": "Python 3 (ipykernel)",
   "language": "python",
   "name": "python3"
  },
  "language_info": {
   "codemirror_mode": {
    "name": "ipython",
    "version": 3
   },
   "file_extension": ".py",
   "mimetype": "text/x-python",
   "name": "python",
   "nbconvert_exporter": "python",
   "pygments_lexer": "ipython3",
   "version": "3.9.7"
  }
 },
 "nbformat": 4,
 "nbformat_minor": 5
}
