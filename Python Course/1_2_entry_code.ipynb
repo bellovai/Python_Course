{
 "cells": [
  {
   "cell_type": "markdown",
   "id": "96221394",
   "metadata": {},
   "source": [
    "# Entry Code"
   ]
  },
  {
   "cell_type": "code",
   "execution_count": 1,
   "id": "460af9bc",
   "metadata": {},
   "outputs": [
    {
     "name": "stdout",
     "output_type": "stream",
     "text": [
      "Zahl 1: 1\n",
      "Zahl 2: 8\n",
      "Zahl 3: 7\n",
      "Ihr Code ist: 1 8 7\n"
     ]
    }
   ],
   "source": [
    "# Define variables\n",
    "a = int(input(\"Zahl 1: \"))\n",
    "b = int(input(\"Zahl 2: \"))\n",
    "c = int(input(\"Zahl 3: \"))\n",
    "i = 1\n",
    "z = False\n",
    "\n",
    "# Output results\n",
    "print(\"Ihr Code ist:\", a, b, c)"
   ]
  },
  {
   "cell_type": "code",
   "execution_count": 2,
   "id": "967c1f76",
   "metadata": {},
   "outputs": [
    {
     "name": "stdout",
     "output_type": "stream",
     "text": [
      "Zahl 1: 1\n",
      "Zahl 2: 8\n",
      "Zahl 3: 7\n",
      "WILLKOMMEN\n"
     ]
    }
   ],
   "source": [
    "# Define algorithm\n",
    "while z == False and i < 4:\n",
    "  a1 = int(input(\"Zahl 1: \"))\n",
    "  b1 = int(input(\"Zahl 2: \"))\n",
    "  c1 = int(input(\"Zahl 3: \"))\n",
    "  if a==a1 and b==b1 and c==c1:\n",
    "    print(\"WILLKOMMEN\")\n",
    "    z = True\n",
    "  else:\n",
    "    i = i+1\n",
    "    \n",
    "if i == 4:\n",
    "  print(\"Gesperrt\")"
   ]
  }
 ],
 "metadata": {
  "kernelspec": {
   "display_name": "Python 3 (ipykernel)",
   "language": "python",
   "name": "python3"
  },
  "language_info": {
   "codemirror_mode": {
    "name": "ipython",
    "version": 3
   },
   "file_extension": ".py",
   "mimetype": "text/x-python",
   "name": "python",
   "nbconvert_exporter": "python",
   "pygments_lexer": "ipython3",
   "version": "3.9.7"
  }
 },
 "nbformat": 4,
 "nbformat_minor": 5
}
