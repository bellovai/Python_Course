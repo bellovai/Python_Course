{
 "cells": [
  {
   "cell_type": "markdown",
   "id": "96221394",
   "metadata": {},
   "source": [
    "# Rock Paper Scissors"
   ]
  },
  {
   "cell_type": "code",
   "execution_count": 1,
   "id": "35c1ea0a",
   "metadata": {},
   "outputs": [],
   "source": [
    "# Import packages\n",
    "import random\n",
    "import numpy as np"
   ]
  },
  {
   "cell_type": "code",
   "execution_count": 2,
   "id": "2db9616d",
   "metadata": {},
   "outputs": [],
   "source": [
    "# Define fucntion: random symbol array for player\n",
    "def spielzug(runden):\n",
    "  spieler = [\" \" for x in range(runden)]\n",
    "  for i in range(0,runden):\n",
    "    zufall = random.randint(1, 3)\n",
    "    if zufall == 1:\n",
    "      zufall = \"Schere\"\n",
    "    if zufall == 2:\n",
    "      zufall = \"Stein\"\n",
    "    if zufall == 3:\n",
    "      zufall = \"Papier\"\n",
    "    spieler[i] = zufall\n",
    "  return spieler"
   ]
  },
  {
   "cell_type": "code",
   "execution_count": 3,
   "id": "b76d78ce",
   "metadata": {},
   "outputs": [],
   "source": [
    "# Initialize variables\n",
    "runden_var = 4 # Number of rounds\n",
    "spieler_1 = spielzug(runden_var) # Moves of player 1\n",
    "spieler_2 = spielzug(runden_var) # Moves of player 2"
   ]
  },
  {
   "cell_type": "code",
   "execution_count": 4,
   "id": "9e2065ac",
   "metadata": {},
   "outputs": [
    {
     "name": "stdout",
     "output_type": "stream",
     "text": [
      "['Papier', 'Papier', 'Papier', 'Schere']\n",
      "['Papier', 'Stein', 'Stein', 'Schere']\n"
     ]
    }
   ],
   "source": [
    "# Output results\n",
    "print(spieler_1)\n",
    "print(spieler_2)"
   ]
  },
  {
   "cell_type": "code",
   "execution_count": 5,
   "id": "cd715a88",
   "metadata": {},
   "outputs": [],
   "source": [
    "# Define function: array with points\n",
    "def punkte(a, b): # a and b are symbol arrays\n",
    "  a_points = [0 for x in range(runden_var)]\n",
    "  b_points = [0 for x in range(runden_var)]\n",
    "    \n",
    "  # a wins\n",
    "  for i in range(0, runden_var):  \n",
    "    if a[i] == \"Schere\" and b[i] == \"Papier\":\n",
    "      a_points[i] = 1\n",
    "    if a[i] == \"Stein\" and b[i] == \"Schere\":\n",
    "      a_points[i] = 1\n",
    "    if a[i] == \"Papier\" and b[i] == \"Stein\":\n",
    "      a_points[i] = 1\n",
    "    \n",
    "  # b wins\n",
    "  for i in range(0, runden_var):  \n",
    "    if b[i] == \"Schere\" and a[i] == \"Papier\":\n",
    "      b_points[i] = 1\n",
    "    if b[i] == \"Stein\" and a[i] == \"Schere\":\n",
    "      b_points[i] = 1\n",
    "    if b[i] == \"Papier\" and a[i] == \"Stein\":\n",
    "      b_points[i] = 1\n",
    "  return a_points, b_points"
   ]
  },
  {
   "cell_type": "code",
   "execution_count": 6,
   "id": "72df1c36",
   "metadata": {},
   "outputs": [],
   "source": [
    "# Initialize arrays\n",
    "spieler_1_points = punkte(spieler_1, spieler_2)[0]\n",
    "spieler_2_points = punkte(spieler_1, spieler_2)[1]"
   ]
  },
  {
   "cell_type": "code",
   "execution_count": 7,
   "id": "54630130",
   "metadata": {},
   "outputs": [
    {
     "name": "stdout",
     "output_type": "stream",
     "text": [
      "[0, 1, 1, 0]\n",
      "[0, 0, 0, 0]\n"
     ]
    }
   ],
   "source": [
    "# Output results\n",
    "print(spieler_1_points)\n",
    "print(spieler_2_points)"
   ]
  },
  {
   "cell_type": "code",
   "execution_count": 8,
   "id": "5d0471a0",
   "metadata": {},
   "outputs": [],
   "source": [
    "# Sum of points\n",
    "def summe(a_points, b_points):\n",
    "  length = len(a_points)\n",
    "  summe1 = 0\n",
    "  summe2 = 0\n",
    "  for i in range(0, length):\n",
    "    summe1 = summe1 + a_points[i]\n",
    "  for i in range(0, length):\n",
    "    summe2 = summe2 + b_points[i]\n",
    "  return summe1, summe2"
   ]
  },
  {
   "cell_type": "code",
   "execution_count": 9,
   "id": "56f41cbe",
   "metadata": {},
   "outputs": [
    {
     "name": "stdout",
     "output_type": "stream",
     "text": [
      "(2, 0)\n"
     ]
    }
   ],
   "source": [
    "# Output results\n",
    "print(summe(spieler_1_points, spieler_2_points))"
   ]
  },
  {
   "cell_type": "code",
   "execution_count": 10,
   "id": "ef872363",
   "metadata": {},
   "outputs": [],
   "source": [
    "# Initialize variables\n",
    "x = summe(spieler_1_points, spieler_2_points)[0]\n",
    "y = summe(spieler_1_points, spieler_2_points)[1]"
   ]
  },
  {
   "cell_type": "code",
   "execution_count": 11,
   "id": "9fbc449b",
   "metadata": {},
   "outputs": [],
   "source": [
    "# Define function: check winner\n",
    "def winner(s1, s2):\n",
    "  if s1 == s2:\n",
    "    print(\"Unentschieden\")\n",
    "  if s1 > s2:\n",
    "    print(\"Spieler 1 gewinnt\")\n",
    "  if s1 < s2:\n",
    "    print(\"Spieler 2 gewinnt\")"
   ]
  },
  {
   "cell_type": "code",
   "execution_count": 12,
   "id": "5df5fe52",
   "metadata": {},
   "outputs": [
    {
     "name": "stdout",
     "output_type": "stream",
     "text": [
      "Spieler 1 gewinnt\n"
     ]
    }
   ],
   "source": [
    "# Output results\n",
    "winner(x, y)"
   ]
  }
 ],
 "metadata": {
  "kernelspec": {
   "display_name": "Python 3 (ipykernel)",
   "language": "python",
   "name": "python3"
  },
  "language_info": {
   "codemirror_mode": {
    "name": "ipython",
    "version": 3
   },
   "file_extension": ".py",
   "mimetype": "text/x-python",
   "name": "python",
   "nbconvert_exporter": "python",
   "pygments_lexer": "ipython3",
   "version": "3.9.7"
  }
 },
 "nbformat": 4,
 "nbformat_minor": 5
}
