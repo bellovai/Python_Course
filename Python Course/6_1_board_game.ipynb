{
 "cells": [
  {
   "cell_type": "markdown",
   "id": "96221394",
   "metadata": {},
   "source": [
    "# Board Game"
   ]
  },
  {
   "cell_type": "code",
   "execution_count": 1,
   "id": "354e3f62",
   "metadata": {},
   "outputs": [],
   "source": [
    "# Initialize variables\n",
    "n = 4 # Size of board\n",
    "playing = True\n",
    "location = 0"
   ]
  },
  {
   "cell_type": "code",
   "execution_count": 2,
   "id": "eb37f323",
   "metadata": {},
   "outputs": [],
   "source": [
    "# Define function\n",
    "def output(location):\n",
    "    for i in range(0, n):\n",
    "        for j in range(0, n):\n",
    "            if i*n+j == location:\n",
    "                print('[*]', end='')\n",
    "            else:\n",
    "                print('[ ]', end='')\n",
    "        print()"
   ]
  },
  {
   "cell_type": "code",
   "execution_count": 3,
   "id": "42a6ed55",
   "metadata": {},
   "outputs": [
    {
     "name": "stdout",
     "output_type": "stream",
     "text": [
      "Welcome to this board game!\n",
      "******************************************\n",
      "[*][ ][ ][ ]\n",
      "[ ][ ][ ][ ]\n",
      "[ ][ ][ ][ ]\n",
      "[ ][ ][ ][ ]\n",
      "What number did you throw? 6\n",
      "[ ][ ][ ][ ]\n",
      "[ ][ ][*][ ]\n",
      "[ ][ ][ ][ ]\n",
      "[ ][ ][ ][ ]\n",
      "What number did you throw? 6\n",
      "[ ][ ][ ][ ]\n",
      "[ ][ ][ ][ ]\n",
      "[ ][ ][ ][ ]\n",
      "[*][ ][ ][ ]\n",
      "What number did you throw? 6\n",
      "[ ][ ][ ][ ]\n",
      "[ ][ ][ ][ ]\n",
      "[ ][ ][ ][ ]\n",
      "[ ][ ][ ][ ]\n",
      "Congratulations! You won!\n"
     ]
    }
   ],
   "source": [
    "# Start game\n",
    "print(\"Welcome to this board game!\")\n",
    "print(\"******************************************\")\n",
    "output(location)\n",
    "\n",
    "# Define algo\n",
    "while playing == True:\n",
    "  \n",
    "  # Define variables\n",
    "  dice = float(input(\"What number did you throw? \"))\n",
    "  z = True\n",
    "    \n",
    "  # Input number from 1 to 6   \n",
    "  while z == True:\n",
    "    if dice % 1 > 0 or dice > 6 or dice < 1:\n",
    "      print(\"Please enter a number from 1 to 6!\")\n",
    "      dice = float(input(\"What number did you throw? \"))\n",
    "    else:\n",
    "      z = False\n",
    "    \n",
    "  # Calculate new position\n",
    "  location = location + dice\n",
    "    \n",
    "  # Check if won\n",
    "  output(location)\n",
    "  if location >= 15:\n",
    "    print(\"Congratulations! You won!\")\n",
    "    # End loop if won\n",
    "    playing = False"
   ]
  }
 ],
 "metadata": {
  "kernelspec": {
   "display_name": "Python 3 (ipykernel)",
   "language": "python",
   "name": "python3"
  },
  "language_info": {
   "codemirror_mode": {
    "name": "ipython",
    "version": 3
   },
   "file_extension": ".py",
   "mimetype": "text/x-python",
   "name": "python",
   "nbconvert_exporter": "python",
   "pygments_lexer": "ipython3",
   "version": "3.9.7"
  }
 },
 "nbformat": 4,
 "nbformat_minor": 5
}
