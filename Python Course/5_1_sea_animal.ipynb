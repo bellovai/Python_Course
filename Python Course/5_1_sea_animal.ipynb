{
 "cells": [
  {
   "cell_type": "markdown",
   "id": "96221394",
   "metadata": {},
   "source": [
    "# Sea Animal"
   ]
  },
  {
   "cell_type": "code",
   "execution_count": 1,
   "id": "3ca4d67a",
   "metadata": {},
   "outputs": [],
   "source": [
    "# Define class\n",
    "class Animal:\n",
    "    \n",
    "  # Attributes\n",
    "  def __init__(self, name, gattung, art, gewicht, laenge, geschwindigkeit, schutz):\n",
    "    self.name = name\n",
    "    self.gattung = gattung\n",
    "    self.art = art\n",
    "    self.gewicht = gewicht\n",
    "    self.laenge = laenge\n",
    "    self.geschwindigkeit = geschwindigkeit\n",
    "    self.schutz = schutz\n",
    "  \n",
    "  # Method\n",
    "  def print_info(self):\n",
    "    print(self.name)\n",
    "    print(self.gattung, self.art)\n",
    "    print(\"Gewicht: \", self.gewicht, \"kg\")\n",
    "    print(\"Länge: \", self.laenge, \"m\")\n",
    "    print(\"Geschwindigkeit: \", self.geschwindigkeit)\n",
    "    print(\"Schutz: \", self.schutz)\n",
    "    print(id(self))\n",
    "    \n",
    "  # Method\n",
    "  def get_time(self, strecke):\n",
    "    if strecke > 0:\n",
    "      zeit = strecke / (self.geschwindigkeit / 3.6)\n",
    "      zeit = round(zeit, 2)\n",
    "      return zeit\n",
    "    else:\n",
    "      return 0\n",
    "  \n",
    "  # Method \n",
    "  def feed(self, futter):\n",
    "    if futter >= 0:\n",
    "      self.gewicht = self.gewicht + futter * 0.3\n",
    "    else:\n",
    "      print(\"Ungültiger Wert.\")\n",
    "      \n",
    "  # Method\n",
    "  def copy(self):\n",
    "    neues_objekt =  Animal(self.name, self.gattung, self.art, self.gewicht, self.laenge, self.geschwindigkeit, self.schutz)\n",
    "    return neues_objekt"
   ]
  },
  {
   "cell_type": "code",
   "execution_count": 2,
   "id": "9a18a2ff",
   "metadata": {},
   "outputs": [],
   "source": [
    "# Initialize objects\n",
    "an1 = Animal(\"Blauwal\", \"Balaenoptera\" , \"musculus\", 200000, 32.0, 48, True)\n",
    "an2 = Animal(\"Grosser Delphin\", \"Tursiops\",  \"truncatus\", 450, 6.5, 60, False)\n",
    "an3 = Animal(\"Roter Thunfisch\", \"Thunnus\", \"thynnus\", 300, 3.2, 70, False)\n",
    "an4 = Animal(\"Schwertfisch\", \"Xiphias\", \"gladius\", 130, 1.5, 97, False)\n",
    "an5 = Animal(\"Grüne Meeresschildkröte\", \"Chelonia\", \"mydas\", 165, 1.1, 0.5, True)"
   ]
  },
  {
   "cell_type": "code",
   "execution_count": 3,
   "id": "54417193",
   "metadata": {},
   "outputs": [],
   "source": [
    "# Copy and change\n",
    "an6 = Animal(an3.name, an3.gattung, an3.art, an3.gewicht, an3.laenge, an3.geschwindigkeit, an3.schutz)\n",
    "an6.name = \"Gelbflossen Thunfisch\"\n",
    "an6.art = \"albacares\"\n",
    "an6.gewicht = 200\n",
    "an6.laenge = 2.4\n",
    "an6.schutz = True\n",
    "an7 = an2.copy()\n",
    "an7.name = \"Indopazifischer Grosser Tümmler\"\n",
    "an7.art = \"aduncus\""
   ]
  },
  {
   "cell_type": "code",
   "execution_count": 4,
   "id": "acb029fe",
   "metadata": {},
   "outputs": [
    {
     "name": "stdout",
     "output_type": "stream",
     "text": [
      "Blauwal\n",
      "Balaenoptera musculus\n",
      "Gewicht:  200000 kg\n",
      "Länge:  32.0 m\n",
      "Geschwindigkeit:  48\n",
      "Schutz:  True\n",
      "140624471313280\n",
      "\n",
      "Grosser Delphin\n",
      "Tursiops truncatus\n",
      "Gewicht:  450 kg\n",
      "Länge:  6.5 m\n",
      "Geschwindigkeit:  60\n",
      "Schutz:  False\n",
      "140624471313136\n",
      "\n",
      "Roter Thunfisch\n",
      "Thunnus thynnus\n",
      "Gewicht:  300 kg\n",
      "Länge:  3.2 m\n",
      "Geschwindigkeit:  70\n",
      "Schutz:  False\n",
      "140624471313328\n",
      "\n",
      "Schwertfisch\n",
      "Xiphias gladius\n",
      "Gewicht:  130 kg\n",
      "Länge:  1.5 m\n",
      "Geschwindigkeit:  97\n",
      "Schutz:  False\n",
      "140624471313376\n",
      "\n",
      "Grüne Meeresschildkröte\n",
      "Chelonia mydas\n",
      "Gewicht:  165 kg\n",
      "Länge:  1.1 m\n",
      "Geschwindigkeit:  0.5\n",
      "Schutz:  True\n",
      "140624471314384\n",
      "\n",
      "Gelbflossen Thunfisch\n",
      "Thunnus albacares\n",
      "Gewicht:  200 kg\n",
      "Länge:  2.4 m\n",
      "Geschwindigkeit:  70\n",
      "Schutz:  True\n",
      "140624471263792\n",
      "\n",
      "Indopazifischer Grosser Tümmler\n",
      "Tursiops aduncus\n",
      "Gewicht:  450 kg\n",
      "Länge:  6.5 m\n",
      "Geschwindigkeit:  60\n",
      "Schutz:  False\n",
      "140624471263744\n",
      "\n"
     ]
    }
   ],
   "source": [
    "# Output\n",
    "an1.print_info()\n",
    "print()\n",
    "an2.print_info()\n",
    "print()\n",
    "an3.print_info()\n",
    "print()\n",
    "an4.print_info()\n",
    "print()\n",
    "an5.print_info()\n",
    "print()\n",
    "an6.print_info()\n",
    "print()\n",
    "an7.print_info()\n",
    "print()"
   ]
  },
  {
   "cell_type": "code",
   "execution_count": 5,
   "id": "90463db5",
   "metadata": {},
   "outputs": [
    {
     "name": "stdout",
     "output_type": "stream",
     "text": [
      "Strecke[m]? 1000\n",
      "Dauer für 1000 m:\n",
      "********************\n",
      "Blauwal 75.0 s\n",
      "Grosser Delphin 60.0 s\n",
      "Roter Thunfisch 51.43 s\n",
      "Schwertfisch 37.11 s\n",
      "Grüne Meeresschildkröte 7200.0 s\n",
      "\n"
     ]
    }
   ],
   "source": [
    "# Calculate distance\n",
    "strecke = int(input(\"Strecke[m]? \"))\n",
    "print(\"Dauer für\", strecke, \"m:\")\n",
    "print(\"********************\")\n",
    "time = an1.get_time(strecke)\n",
    "print(an1.name, time, \"s\")\n",
    "time = an2.get_time(strecke)\n",
    "print(an2.name, time, \"s\")\n",
    "time = an3.get_time(strecke)\n",
    "print(an3.name, time, \"s\")\n",
    "time = an4.get_time(strecke)\n",
    "print(an4.name, time, \"s\")\n",
    "time = an5.get_time(strecke)\n",
    "print(an5.name, time, \"s\")\n",
    "print()"
   ]
  },
  {
   "cell_type": "code",
   "execution_count": 6,
   "id": "cfb3f615",
   "metadata": {},
   "outputs": [
    {
     "name": "stdout",
     "output_type": "stream",
     "text": [
      "Wie viel [kg]? 10\n",
      "Grosser Delphin Gewicht vorher 450 kg.\n",
      "Gewicht nachher 453.0 kg.\n"
     ]
    }
   ],
   "source": [
    "# Calculate weight change\n",
    "futter = int(input(\"Wie viel [kg]? \"))\n",
    "print(an2.name, \"Gewicht vorher\", an2.gewicht, \"kg.\")\n",
    "an2.feed(futter)\n",
    "print(\"Gewicht nachher\", an2.gewicht, \"kg.\")"
   ]
  }
 ],
 "metadata": {
  "kernelspec": {
   "display_name": "Python 3 (ipykernel)",
   "language": "python",
   "name": "python3"
  },
  "language_info": {
   "codemirror_mode": {
    "name": "ipython",
    "version": 3
   },
   "file_extension": ".py",
   "mimetype": "text/x-python",
   "name": "python",
   "nbconvert_exporter": "python",
   "pygments_lexer": "ipython3",
   "version": "3.9.7"
  }
 },
 "nbformat": 4,
 "nbformat_minor": 5
}
