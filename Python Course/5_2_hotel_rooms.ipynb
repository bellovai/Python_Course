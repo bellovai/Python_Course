{
 "cells": [
  {
   "cell_type": "markdown",
   "id": "96221394",
   "metadata": {},
   "source": [
    "# Hotel Rooms"
   ]
  },
  {
   "cell_type": "code",
   "execution_count": 1,
   "id": "1694cd28",
   "metadata": {},
   "outputs": [],
   "source": [
    "# Define class\n",
    "class Hotel:\n",
    "  # Attributes\n",
    "  def __init__(self, name, sterne, stockwerke, zimmerProStockwerk, belegung):\n",
    "    self.name = name\n",
    "    self.sterne = sterne\n",
    "    self.stockwerke = stockwerke\n",
    "    self.zimmerProStockwerk = zimmerProStockwerk\n",
    "    self.belegung = belegung\n",
    "  \n",
    "  # Calculate number of free rooms\n",
    "  def getGebuchteZimmer(self):\n",
    "    free_rooms = self.stockwerke * self.zimmerProStockwerk - self.belegung\n",
    "    return free_rooms\n",
    "  \n",
    "  # Calculate number of total rooms\n",
    "  def getMaxZimmer(self):\n",
    "    max_rooms = self.stockwerke * self.zimmerProStockwerk\n",
    "    return max_rooms\n",
    "  \n",
    "  # Add one to 'Belegung'\n",
    "  def einchecken(self):\n",
    "    if self.getGebuchteZimmer() > 0:\n",
    "      self.belegung = self.belegung + 1\n",
    "      return True\n",
    "    else:\n",
    "      return False\n",
    "  \n",
    "  # Subtract one from 'Belegung'\n",
    "  def auschecken(self):\n",
    "    if self.belegung > 0:\n",
    "      self.belegung = self.belegung - 1\n",
    "      return True\n",
    "    else:\n",
    "      return False\n",
    "\n",
    "  # Copy object\n",
    "  def copy(self):\n",
    "    neues_objekt =  Hotel(self.name, self.sterne, self.stockwerke, self.zimmerProStockwerk, self.belegung)\n",
    "    return neues_objekt\n",
    "\n",
    "  # Output\n",
    "  def print_info(self):\n",
    "    anzahl = int(input(\"Wieviele Zimmer wollen sie buchen? \"))\n",
    "    print(\"Hotel\", self.name, self.sterne)\n",
    "    print(\"Anfrage für\", anzahl, \"Zimmer\")\n",
    "    print(self.belegung, \"von\", self.getMaxZimmer(), \"belegt\")\n",
    "    if anzahl <= self.getGebuchteZimmer():\n",
    "      print(\"Sie können im\", self.name, \"einchecken.\")\n",
    "    elif self.getGebuchteZimmer() == 0:\n",
    "      print(\"Das\", self.name, \"ist leider voll.\")\n",
    "    else:\n",
    "      print(\"Das\", self.name, \"hat leider zu wenig freie Zimmer.\")"
   ]
  },
  {
   "cell_type": "code",
   "execution_count": 2,
   "id": "0a6ca318",
   "metadata": {},
   "outputs": [],
   "source": [
    "# Initialize variables\n",
    "h1 = Hotel(\"Edelweiss\", \"***\", 3, 5, 13)"
   ]
  },
  {
   "cell_type": "code",
   "execution_count": 3,
   "id": "8e46fa86",
   "metadata": {},
   "outputs": [
    {
     "name": "stdout",
     "output_type": "stream",
     "text": [
      "Wieviele Zimmer wollen sie buchen? 3\n",
      "Hotel Edelweiss ***\n",
      "Anfrage für 3 Zimmer\n",
      "14 von 15 belegt\n",
      "Das Edelweiss hat leider zu wenig freie Zimmer.\n"
     ]
    }
   ],
   "source": [
    "# Start\n",
    "h1.einchecken()\n",
    "h1.print_info()"
   ]
  }
 ],
 "metadata": {
  "kernelspec": {
   "display_name": "Python 3 (ipykernel)",
   "language": "python",
   "name": "python3"
  },
  "language_info": {
   "codemirror_mode": {
    "name": "ipython",
    "version": 3
   },
   "file_extension": ".py",
   "mimetype": "text/x-python",
   "name": "python",
   "nbconvert_exporter": "python",
   "pygments_lexer": "ipython3",
   "version": "3.9.7"
  }
 },
 "nbformat": 4,
 "nbformat_minor": 5
}
