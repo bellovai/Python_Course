{
 "cells": [
  {
   "cell_type": "markdown",
   "id": "96221394",
   "metadata": {},
   "source": [
    "# Grade Calculator"
   ]
  },
  {
   "cell_type": "code",
   "execution_count": null,
   "id": "92f0a194",
   "metadata": {},
   "outputs": [
    {
     "name": "stdout",
     "output_type": "stream",
     "text": [
      "Erste Note: 6\n",
      "Zur Berechnung des Durchschnitts geben Sie 0 ein!\n",
      "Weitere Note: 5\n",
      "Zur Berechnung des Durchschnitts geben Sie 0 ein!\n",
      "Weitere Note: 5\n",
      "Zur Berechnung des Durchschnitts geben Sie 0 ein!\n",
      "Weitere Note: 3\n",
      "Zur Berechnung des Durchschnitts geben Sie 0 ein!\n",
      "Weitere Note: 4\n",
      "Zur Berechnung des Durchschnitts geben Sie 0 ein!\n",
      "Weitere Note: 0\n",
      "Durchschnitt:  4.6\n",
      "Zur Berechnung des Durchschnitts geben Sie 0 ein!\n"
     ]
    }
   ],
   "source": [
    "# Initialize variables\n",
    "a = int(input(\"Erste Note: \"))\n",
    "b = a\n",
    "i = 0\n",
    "z = False\n",
    "\n",
    "print(\"Zur Berechnung des Durchschnitts geben Sie 0 ein!\")\n",
    "\n",
    "# Define algorithm\n",
    "if a == 0:\n",
    "  print(\"Keine Noten eingegeben.\")\n",
    "  exit()\n",
    "  \n",
    "while z == False:\n",
    "  i = i+1\n",
    "  a = int(input(\"Weitere Note: \"))\n",
    "  b = b+a\n",
    "  if a == 0:\n",
    "    z = False\n",
    "    print(\"Durchschnitt: \", b/i)\n",
    "    exit()\n",
    "  print(\"Zur Berechnung des Durchschnitts geben Sie 0 ein!\")"
   ]
  }
 ],
 "metadata": {
  "kernelspec": {
   "display_name": "Python 3 (ipykernel)",
   "language": "python",
   "name": "python3"
  },
  "language_info": {
   "codemirror_mode": {
    "name": "ipython",
    "version": 3
   },
   "file_extension": ".py",
   "mimetype": "text/x-python",
   "name": "python",
   "nbconvert_exporter": "python",
   "pygments_lexer": "ipython3",
   "version": "3.9.7"
  }
 },
 "nbformat": 4,
 "nbformat_minor": 5
}
