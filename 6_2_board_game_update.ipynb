{
 "cells": [
  {
   "cell_type": "markdown",
   "id": "96221394",
   "metadata": {},
   "source": [
    "# Board Game Update"
   ]
  },
  {
   "cell_type": "code",
   "execution_count": 1,
   "id": "3fd06a00",
   "metadata": {},
   "outputs": [],
   "source": [
    "# Import packages\n",
    "import random"
   ]
  },
  {
   "cell_type": "code",
   "execution_count": 2,
   "id": "3a5de499",
   "metadata": {},
   "outputs": [],
   "source": [
    "# Define variables\n",
    "n = 4  # Size of board\n",
    "wurf = 0\n",
    "playing = True\n",
    "spieler1 = \"Spieler 1\"\n",
    "location1 = 0 # Position of player 1\n",
    "spieler2 = \"Spieler 2\"\n",
    "location2 = 0 # Position of player 2"
   ]
  },
  {
   "cell_type": "code",
   "execution_count": 3,
   "id": "360a83f9",
   "metadata": {},
   "outputs": [],
   "source": [
    "# Define function\n",
    "def ausgabe(location1, location2):\n",
    "    for i in range(0, n):\n",
    "        for j in range(0, n):\n",
    "            if i*n+j == location1 and i*n+j == location2: # Both player on same field\n",
    "                print('[*]', end='')\n",
    "            elif i*n+j == location1:\n",
    "                print('[1]', end='')\n",
    "            elif i*n+j == location2:\n",
    "                print('[2]', end='')\n",
    "            else:\n",
    "                print('[ ]', end='')\n",
    "        print()"
   ]
  },
  {
   "cell_type": "code",
   "execution_count": 4,
   "id": "e523b260",
   "metadata": {},
   "outputs": [],
   "source": [
    "# Define function\n",
    "def spielzug(spieler, location):\n",
    "    \n",
    "  # Generate random number for player 2\n",
    "  if spieler == \"Spieler 2\":\n",
    "    wurf = random.randrange(1, 7)\n",
    "    print(\"Der\", spieler, \"hat eine\", wurf, \"gewürfelt.\")\n",
    "  \n",
    "  # Input valid value for player 1\n",
    "  if spieler == \"Spieler 1\":\n",
    "    wurf = float(input(\"Was haben Sie gewürfelt? \"))\n",
    "  z = True\n",
    "  while z == True:\n",
    "    if wurf % 1 > 0 or wurf > 6 or wurf < 1:\n",
    "      print(\"Bitte geben Sie eine Zahl zwischen 1 und 6 ein!\")\n",
    "      wurf = float(input(\"Was haben Sie gewürfelt? \"))\n",
    "    else:\n",
    "      z = False\n",
    "    \n",
    "  # Calculate new position\n",
    "  location = location + wurf\n",
    "  \n",
    "  # Exactly on last field\n",
    "  if location > 15:\n",
    "    location = 30 - location\n",
    "    print(\"Das war zu weit!\")\n",
    "\n",
    "  # Return result\n",
    "  return location"
   ]
  },
  {
   "cell_type": "code",
   "execution_count": 5,
   "id": "0f5dc596",
   "metadata": {},
   "outputs": [
    {
     "name": "stdout",
     "output_type": "stream",
     "text": [
      "Willkommen zu einer Runde Leiterpiel!\n",
      "Sie sind Spieler 1, der Computer Spieler 2\n",
      "******************************************\n",
      "[*][ ][ ][ ]\n",
      "[ ][ ][ ][ ]\n",
      "[ ][ ][ ][ ]\n",
      "[ ][ ][ ][ ]\n",
      "Was haben Sie gewürfelt? 6\n",
      "Der Spieler 2 hat eine 3 gewürfelt.\n",
      "[ ][ ][ ][2]\n",
      "[ ][ ][1][ ]\n",
      "[ ][ ][ ][ ]\n",
      "[ ][ ][ ][ ]\n",
      "Was haben Sie gewürfelt? 6\n",
      "Der Spieler 2 hat eine 5 gewürfelt.\n",
      "[ ][ ][ ][ ]\n",
      "[ ][ ][ ][ ]\n",
      "[2][ ][ ][ ]\n",
      "[1][ ][ ][ ]\n",
      "Was haben Sie gewürfelt? 4\n",
      "Das war zu weit!\n",
      "Der Spieler 2 hat eine 1 gewürfelt.\n",
      "[ ][ ][ ][ ]\n",
      "[ ][ ][ ][ ]\n",
      "[ ][2][ ][ ]\n",
      "[ ][ ][1][ ]\n",
      "Was haben Sie gewürfelt? 1\n",
      "Gratulation! Spieler 1 hat gewonnen!\n",
      "[ ][ ][ ][ ]\n",
      "[ ][ ][ ][ ]\n",
      "[ ][2][ ][ ]\n",
      "[ ][ ][ ][1]\n"
     ]
    }
   ],
   "source": [
    "# Start game\n",
    "print(\"Willkommen zu einer Runde Leiterpiel!\")\n",
    "print(\"Sie sind Spieler 1, der Computer Spieler 2\")\n",
    "print(\"******************************************\")\n",
    "  \n",
    "while playing:\n",
    "  # Output board\n",
    "  ausgabe(location1, location2)\n",
    "\n",
    "  # Move from player 1\n",
    "  location1 = spielzug(spieler1, location1)\n",
    "  if location1 == 15:\n",
    "    print(\"Gratulation! Spieler 1 hat gewonnen!\")\n",
    "    playing = False\n",
    "    break\n",
    "    \n",
    "  # Move from player 2\n",
    "  location2 = spielzug(spieler2, location2)\n",
    "  if location2 == 15:\n",
    "    print(\"Gratulation! Spieler 2 hat gewonnen!\")\n",
    "    playing = False\n",
    "    break\n",
    "  \n",
    "  # Special field 13\n",
    "  if location1 == 13:\n",
    "    location1 = 0\n",
    "    print(\"Pech gehabt! Spieler 1 geht zurück zum Start.\")\n",
    "  if location2 == 13:\n",
    "    location2 = 0\n",
    "    print(\"Pech gehabt! Spieler 2 geht zurück zum Start.\")\n",
    "    \n",
    "ausgabe(location1, location2)"
   ]
  }
 ],
 "metadata": {
  "kernelspec": {
   "display_name": "Python 3 (ipykernel)",
   "language": "python",
   "name": "python3"
  },
  "language_info": {
   "codemirror_mode": {
    "name": "ipython",
    "version": 3
   },
   "file_extension": ".py",
   "mimetype": "text/x-python",
   "name": "python",
   "nbconvert_exporter": "python",
   "pygments_lexer": "ipython3",
   "version": "3.9.7"
  }
 },
 "nbformat": 4,
 "nbformat_minor": 5
}
