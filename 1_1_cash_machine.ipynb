{
 "cells": [
  {
   "cell_type": "markdown",
   "id": "96221394",
   "metadata": {},
   "source": [
    "# Cash Machine"
   ]
  },
  {
   "cell_type": "code",
   "execution_count": 1,
   "id": "65e6c35d",
   "metadata": {},
   "outputs": [
    {
     "name": "stdout",
     "output_type": "stream",
     "text": [
      "Wie viel möchten Sie abheben?\n",
      "183\n"
     ]
    }
   ],
   "source": [
    "# Initialize variables\n",
    "x = float(input(\"Wie viel möchten Sie abheben?\\n\"))\n",
    "y = x\n",
    "a = int(x//100) # Number of notes"
   ]
  },
  {
   "cell_type": "code",
   "execution_count": 2,
   "id": "55c13e57",
   "metadata": {},
   "outputs": [
    {
     "name": "stdout",
     "output_type": "stream",
     "text": [
      "Gewünschter Geldbetrag: 183.0\n",
      "Sie erhalten 1 Hunderternoten.\n",
      "Sie erhalten 1 Fünfzigernoten.\n",
      "Sie erhalten 1 Zwanzigernoten.\n",
      "Sie erhalten 1 Zehnernoten.\n",
      "Abgehobener Betrag: 180.0\n"
     ]
    }
   ],
   "source": [
    "# Define algorithm\n",
    "if x > 1000:\n",
    "  print(\"Sie können maximal 1000CHF abheben.\")\n",
    "  exit()\n",
    "\n",
    "print(\"Gewünschter Geldbetrag:\", x)\n",
    "\n",
    "if a > 0:\n",
    "  print(\"Sie erhalten\", a, \"Hunderternoten.\")\n",
    "\n",
    "x = x%100\n",
    "a = int(x//50) # Number of 50$ notes\n",
    "if a > 0:\n",
    "  print(\"Sie erhalten\", a, \"Fünfzigernoten.\")\n",
    "\n",
    "x = x%50\n",
    "a = int(x//20) # Number of 20$ notes\n",
    "if a > 0:\n",
    "  print(\"Sie erhalten\", a, \"Zwanzigernoten.\")\n",
    "\n",
    "x = x%20\n",
    "a = int(x//10) # Number of 10$ notes\n",
    "if a > 0:\n",
    "  print(\"Sie erhalten\", a, \"Zehnernoten.\")\n",
    "  \n",
    "x = x%10\n",
    "y = y - x\n",
    "print(\"Abgehobener Betrag:\", y)"
   ]
  }
 ],
 "metadata": {
  "kernelspec": {
   "display_name": "Python 3 (ipykernel)",
   "language": "python",
   "name": "python3"
  },
  "language_info": {
   "codemirror_mode": {
    "name": "ipython",
    "version": 3
   },
   "file_extension": ".py",
   "mimetype": "text/x-python",
   "name": "python",
   "nbconvert_exporter": "python",
   "pygments_lexer": "ipython3",
   "version": "3.9.7"
  }
 },
 "nbformat": 4,
 "nbformat_minor": 5
}
