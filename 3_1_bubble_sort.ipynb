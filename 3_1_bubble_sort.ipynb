{
 "cells": [
  {
   "cell_type": "markdown",
   "id": "96221394",
   "metadata": {},
   "source": [
    "# Bubble Sort"
   ]
  },
  {
   "cell_type": "code",
   "execution_count": 1,
   "id": "7f6a8131",
   "metadata": {},
   "outputs": [],
   "source": [
    "# Define function\n",
    "def swap(a):\n",
    "  laenge = len(a)\n",
    "  for i in range(0, laenge-1):\n",
    "    if a[i] > a[i+1]:\n",
    "      savevar = a[i]\n",
    "      a[i] = a[i+1]\n",
    "      a[i+1] = savevar\n",
    "      boolswap = True\n",
    "      return boolswap # With this line, boolswap can be used in bubblesort()"
   ]
  },
  {
   "cell_type": "code",
   "execution_count": 2,
   "id": "76a10b99",
   "metadata": {},
   "outputs": [],
   "source": [
    "# Define function\n",
    "def bubblesort(a):\n",
    "  laenge = len(a)\n",
    "  boolsort = True\n",
    "  while boolsort == True:\n",
    "    boolsort = False\n",
    "    swap(a)\n",
    "    boolsort = swap(a) # Boolsort stays True if for-loop in swap() is active\n",
    "  return(a)"
   ]
  },
  {
   "cell_type": "code",
   "execution_count": 3,
   "id": "7c9166b9",
   "metadata": {},
   "outputs": [],
   "source": [
    "# Initialize array\n",
    "mein_array = [6, 9, 7, 3, 1, 10, 8, 2, 5, 4]"
   ]
  },
  {
   "cell_type": "code",
   "execution_count": 4,
   "id": "60688ecd",
   "metadata": {},
   "outputs": [
    {
     "name": "stdout",
     "output_type": "stream",
     "text": [
      "[6, 9, 7, 3, 1, 10, 8, 2, 5, 4]\n",
      "[1, 2, 3, 4, 5, 6, 7, 8, 9, 10]\n"
     ]
    }
   ],
   "source": [
    "# Output results\n",
    "print(mein_array)\n",
    "print(bubblesort(mein_array))"
   ]
  }
 ],
 "metadata": {
  "kernelspec": {
   "display_name": "Python 3 (ipykernel)",
   "language": "python",
   "name": "python3"
  },
  "language_info": {
   "codemirror_mode": {
    "name": "ipython",
    "version": 3
   },
   "file_extension": ".py",
   "mimetype": "text/x-python",
   "name": "python",
   "nbconvert_exporter": "python",
   "pygments_lexer": "ipython3",
   "version": "3.9.7"
  }
 },
 "nbformat": 4,
 "nbformat_minor": 5
}
