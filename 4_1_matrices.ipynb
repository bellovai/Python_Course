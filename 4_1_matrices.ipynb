{
 "cells": [
  {
   "cell_type": "markdown",
   "id": "96221394",
   "metadata": {},
   "source": [
    "# Matrices"
   ]
  },
  {
   "cell_type": "code",
   "execution_count": 1,
   "id": "0254682e",
   "metadata": {},
   "outputs": [],
   "source": [
    "# Import packages\n",
    "import numpy as np"
   ]
  },
  {
   "cell_type": "code",
   "execution_count": 2,
   "id": "6a566b64",
   "metadata": {},
   "outputs": [],
   "source": [
    "# Define function\n",
    "def ausgabe(spielbrett):\n",
    "  print()\n",
    "  print(\"  S 1 2 3\")\n",
    "  print(\"Z  ------\")\n",
    "  for i in range(0, 3):\n",
    "    print(i + 1, \"|\", end=\" \")\n",
    "    for j in range(0, 3):\n",
    "      print(spielbrett[i][j], end=\" \")\n",
    "    print()\n",
    "  print()"
   ]
  },
  {
   "cell_type": "code",
   "execution_count": 3,
   "id": "542b3236",
   "metadata": {},
   "outputs": [],
   "source": [
    "# Initialize matrice\n",
    "brett = np.array([[3, 4, 8], [7, 0, 5], [2, 1, 6]], int)\n",
    "empty_row = 1\n",
    "empty_col = 1"
   ]
  },
  {
   "cell_type": "code",
   "execution_count": 4,
   "id": "ba0c5ab5",
   "metadata": {},
   "outputs": [
    {
     "name": "stdout",
     "output_type": "stream",
     "text": [
      "\n",
      "  S 1 2 3\n",
      "Z  ------\n",
      "1 | 3 4 8 \n",
      "2 | 7 0 5 \n",
      "3 | 2 1 6 \n",
      "\n"
     ]
    }
   ],
   "source": [
    "# Output matrice\n",
    "ausgabe(brett)"
   ]
  },
  {
   "cell_type": "code",
   "execution_count": 5,
   "id": "a5289d50",
   "metadata": {},
   "outputs": [
    {
     "name": "stdout",
     "output_type": "stream",
     "text": [
      "Zeilennummer: 1\n",
      "Spaltennummer: 1\n",
      "\n",
      "  S 1 2 3\n",
      "Z  ------\n",
      "1 | 0 4 8 \n",
      "2 | 7 3 5 \n",
      "3 | 2 1 6 \n",
      "\n",
      "Zeilennummer: 2\n",
      "Spaltennummer: 1\n",
      "\n",
      "  S 1 2 3\n",
      "Z  ------\n",
      "1 | 7 4 8 \n",
      "2 | 0 3 5 \n",
      "3 | 2 1 6 \n",
      "\n",
      "Zeilennummer: 3\n",
      "Spaltennummer: 1\n",
      "\n",
      "  S 1 2 3\n",
      "Z  ------\n",
      "1 | 7 4 8 \n",
      "2 | 2 3 5 \n",
      "3 | 0 1 6 \n",
      "\n"
     ]
    }
   ],
   "source": [
    "# Change matrice\n",
    "for i in range(0,3):\n",
    "  row = int(input(\"Zeilennummer: \")) - 1\n",
    "  col = int(input(\"Spaltennummer: \")) - 1\n",
    "  brett[empty_row][empty_col] = brett[row][col]\n",
    "  brett[row][col] = 0\n",
    "  empty_row = row\n",
    "  empty_col = col\n",
    "  ausgabe(brett)"
   ]
  }
 ],
 "metadata": {
  "kernelspec": {
   "display_name": "Python 3 (ipykernel)",
   "language": "python",
   "name": "python3"
  },
  "language_info": {
   "codemirror_mode": {
    "name": "ipython",
    "version": 3
   },
   "file_extension": ".py",
   "mimetype": "text/x-python",
   "name": "python",
   "nbconvert_exporter": "python",
   "pygments_lexer": "ipython3",
   "version": "3.9.7"
  }
 },
 "nbformat": 4,
 "nbformat_minor": 5
}
